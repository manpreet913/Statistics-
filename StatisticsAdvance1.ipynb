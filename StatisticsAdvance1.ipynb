{
  "nbformat": 4,
  "nbformat_minor": 0,
  "metadata": {
    "colab": {
      "provenance": []
    },
    "kernelspec": {
      "name": "python3",
      "display_name": "Python 3"
    },
    "language_info": {
      "name": "python"
    }
  },
  "cells": [
    {
      "cell_type": "markdown",
      "source": [
        "#Statistics Advanced - 1| Assignment\n"
      ],
      "metadata": {
        "id": "8Yf_9rndQxO2"
      }
    },
    {
      "cell_type": "markdown",
      "source": [
        "1. What is a random variable in probability theory?\n",
        "- A random variable is a function that maps the outcomes of a random experiment to numerical values, allowing for the quantification of these outcomes in probability theory.\n",
        "2. What are the types of random variables?\n",
        "- There are two primary types of random variables: discrete and continuous.\n",
        "3. Explain the difference between discrete and continuous distributions.\n",
        "- A discrete random variable has a countable number of possible values, such as the outcome of a dice roll or the number of heads in three coin flips.\n",
        "A continuous random variable, in contrast, can take on any value within a given range, like the height of a person or the time it takes for a bulb to burn out.\n",
        "4. What is a binomial distribution, and how is it used in probability?\n",
        "- A binomial distribution is a discrete probability distribution used to model the number of successes in a fixed number of independent trials, each with two possible outcomes and a constant probability of success. It is used in probability to calculate the likelihood of a specific number of successes occurring in such a sequence of trials.\n",
        "5. What is the standard normal distribution, and why is it important?\n",
        "- The standard normal distribution is a specific normal distribution with a mean of 0 and a standard deviation of 1, often called the z-distribution.\n",
        "It is important because it serves as a universal reference point, allowing the standardization of any normal distribution through z-scores\n",
        "6. What is the Central Limit Theorem (CLT), and why is it critical in statistics?\n",
        "- The Central Limit Theorem (CLT) states that the distribution of sample means from any sufficiently large sample size will approximate a normal (bell-shaped) distribution, regardless of the original population's distribution.\n",
        "It's critical in statistics because it allows statisticians to apply powerful normal distribution-based methods, such as hypothesis testing and confidence intervals, to make reliable inferences about a population using sample data, even when the population's original data is not normally distributed\n",
        "7. What is the significance of confidence intervals in statistical analysis?\n",
        "- Confidence intervals are significant in statistical analysis because they provide a range of plausible values for an unknown population parameter, rather than just a single point estimate. They quantify the uncertainty in an estimate, indicating how reliable a sample statistic is in representing the population\n",
        "8. What is the concept of expected value in a probability distribution?\n",
        "- The expected value, also known as the mean or average, of a random variable in a probability distribution represents the long-term average outcome if an experiment or process were to be repeated many times. It is a measure of the central tendency of the distribution."
      ],
      "metadata": {
        "id": "1B64CWSDQzrH"
      }
    },
    {
      "cell_type": "markdown",
      "source": [
        "9. Write a Python program to generate 1000 random numbers from a normal distribution with mean = 50 and standard deviation = 5. Compute its mean and standard deviation using NumPy, and draw a histogram to visualize the distribution."
      ],
      "metadata": {
        "id": "soPbPpOGTCk6"
      }
    },
    {
      "cell_type": "code",
      "source": [
        "import numpy as np\n",
        "import matplotlib.pyplot as plt\n",
        "\n",
        "# Parameters for the normal distribution\n",
        "mean = 50\n",
        "std_dev = 5\n",
        "num_samples = 1000\n",
        "\n",
        "# Generate random numbers from a normal distribution\n",
        "random_numbers = np.random.normal(loc=mean, scale=std_dev, size=num_samples)"
      ],
      "metadata": {
        "id": "gFnb_9iPTS7z"
      },
      "execution_count": 1,
      "outputs": []
    },
    {
      "cell_type": "code",
      "source": [
        "# Compute the mean and standard deviation of the generated numbers using NumPy\n",
        "computed_mean = np.mean(random_numbers)\n",
        "computed_std_dev = np.std(random_numbers)\n",
        "\n",
        "print(f\"Generated data mean: {computed_mean:.2f}\")\n",
        "print(f\"Generated data standard deviation: {computed_std_dev:.2f}\")"
      ],
      "metadata": {
        "colab": {
          "base_uri": "https://localhost:8080/"
        },
        "id": "IGJ6BcgoTg3m",
        "outputId": "6b96609b-ac5d-4cc1-c62c-c55a332b2dbe"
      },
      "execution_count": 5,
      "outputs": [
        {
          "output_type": "stream",
          "name": "stdout",
          "text": [
            "Generated data mean: 50.21\n",
            "Generated data standard deviation: 4.90\n"
          ]
        }
      ]
    },
    {
      "cell_type": "code",
      "source": [
        "# Draw a histogram to visualize the distribution\n",
        "plt.hist(random_numbers, bins=30, density=True, alpha=0.6, color='g')\n",
        "plt.title('Histogram of Normally Distributed Random Numbers')\n",
        "plt.xlabel('Value')\n",
        "plt.ylabel('Density')\n",
        "plt.grid(True)\n",
        "plt.show()"
      ],
      "metadata": {
        "colab": {
          "base_uri": "https://localhost:8080/",
          "height": 472
        },
        "id": "aExy-bQZT1HP",
        "outputId": "e926f3a7-3ed7-40eb-9b3b-2a81a9839b3a"
      },
      "execution_count": 6,
      "outputs": [
        {
          "output_type": "display_data",
          "data": {
            "text/plain": [
              "<Figure size 640x480 with 1 Axes>"
            ],
            "image/png": "[encoded data removed]"
          },
          "metadata": {}
        }
      ]
    },
    {
      "cell_type": "markdown",
      "source": [
        "10. You are working as a data analyst for a retail company. The company has collected daily sales data for 2 years and wants you to identify the overall sales trend.\n",
        "daily_sales = [220, 245, 210, 265, 230, 250, 260, 275, 240, 255,\n",
        " 235, 260, 245, 250, 225, 270, 265, 255, 250, 260]\n",
        "● Explain how you would apply the Central Limit Theorem to estimate the average sales with a 95% confidence interval.\n",
        "● Write the Python code to compute the mean sales and its confidence interval."
      ],
      "metadata": {
        "id": "FFeulDVVT5hc"
      }
    },
    {
      "cell_type": "markdown",
      "source": [
        "Answer-\n",
        "\n",
        "Calculate Sample Statistics: The first step is to calculate the sample mean (x) and the sample standard deviation (s) from the provided daily_sales data. The sample mean will serve as the best estimate for the true average sales of the company.\n",
        "\n",
        "Estimate Standard Error: The CLT allows us to estimate the standard deviation of the sampling distribution of the mean, also known as the standard error of the mean (SEM), using the formula \\(SEM=s/\\sqrt{n}\\), where \\(n\\) is the sample size. This value quantifies the variability of our sample mean.\n",
        "\n",
        "Construct Confidence Interval: To create a 95% confidence interval, we will use the t-distribution because the sample size (\\(n=20\\)) is small. The interval is calculated as:\\(\\={x}\\pm t_{\\alpha /2,n-1}\\times SEM\\)\n",
        "\n",
        "For a 95% confidence interval, \\(\\alpha \\) is 0.05. We use the t-score (\\(t_{\\alpha /2,n-1}\\)) for a two-tailed test with 19 degrees of freedom to determine the margin of error. This interval will provide a range of values within which we are 95% confident that the true average sales of the company lie."
      ],
      "metadata": {
        "id": "PgP8OETooo63"
      }
    },
    {
      "cell_type": "code",
      "source": [
        "import numpy as np\n",
        "from scipy import stats\n",
        "\n",
        "daily_sales = np.array([220, 245, 210, 265, 230, 250, 260, 275, 240, 255, 235, 260, 245, 250, 225, 270, 265, 255, 250, 260])\n",
        "\n",
        "# Calculate the mean\n",
        "mean_sales = np.mean(daily_sales)\n",
        "\n",
        "# Calculate the standard error of the mean (SEM)\n",
        "sem = stats.sem(daily_sales)\n",
        "\n",
        "# Set confidence level\n",
        "confidence_level = 0.95\n",
        "\n",
        "# Calculate the confidence interval\n",
        "confidence_interval = stats.t.interval(confidence_level, len(daily_sales)-1, loc=mean_sales, scale=sem)\n",
        "\n",
        "print(f\"The sample mean sales is: {mean_sales:.2f}\")\n",
        "print(f\"The 95% confidence interval for the average sales is: ({confidence_interval[0]:.2f}, {confidence_interval[1]:.2f})\")\n"
      ],
      "metadata": {
        "colab": {
          "base_uri": "https://localhost:8080/"
        },
        "id": "_jKe0zsHnznD",
        "outputId": "8e1d3e4f-dba3-4586-8aa7-1320b9b27d72"
      },
      "execution_count": 7,
      "outputs": [
        {
          "output_type": "stream",
          "name": "stdout",
          "text": [
            "The sample mean sales is: 248.25\n",
            "The 95% confidence interval for the average sales is: (240.17, 256.33)\n"
          ]
        }
      ]
    },
    {
      "cell_type": "code",
      "source": [],
      "metadata": {
        "id": "01mlL5fZCCD1"
      },
      "execution_count": null,
      "outputs": []
    }
  ]
}